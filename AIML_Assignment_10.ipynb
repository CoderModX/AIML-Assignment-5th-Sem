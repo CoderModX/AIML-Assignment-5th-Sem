{
 "cells": [
  {
   "cell_type": "code",
   "execution_count": 1,
   "id": "d7c2cbeb",
   "metadata": {},
   "outputs": [],
   "source": [
    "import pandas as pd\n",
    "import numpy as np\n",
    "import matplotlib.pyplot as plt\n",
    "from sklearn import preprocessing\n",
    "from sklearn.preprocessing import MinMaxScaler\n",
    "from sklearn.model_selection import train_test_split\n",
    "from sklearn import svm\n",
    "from sklearn.metrics import confusion_matrix,accuracy_score\n",
    "import warnings\n",
    "warnings.filterwarnings('ignore')"
   ]
  },
  {
   "cell_type": "code",
   "execution_count": 2,
   "id": "ad06b905",
   "metadata": {},
   "outputs": [
    {
     "data": {
      "text/html": [
       "<div>\n",
       "<style scoped>\n",
       "    .dataframe tbody tr th:only-of-type {\n",
       "        vertical-align: middle;\n",
       "    }\n",
       "\n",
       "    .dataframe tbody tr th {\n",
       "        vertical-align: top;\n",
       "    }\n",
       "\n",
       "    .dataframe thead th {\n",
       "        text-align: right;\n",
       "    }\n",
       "</style>\n",
       "<table border=\"1\" class=\"dataframe\">\n",
       "  <thead>\n",
       "    <tr style=\"text-align: right;\">\n",
       "      <th></th>\n",
       "      <th>Mean of the integrated profile</th>\n",
       "      <th>Standard deviation of the integrated profile</th>\n",
       "      <th>Excess kurtosis of the integrated profile</th>\n",
       "      <th>Skewness of the integrated profile</th>\n",
       "      <th>Mean of the DM-SNR curve</th>\n",
       "      <th>Standard deviation of the DM-SNR curve</th>\n",
       "      <th>Excess kurtosis of the DM-SNR curve</th>\n",
       "      <th>Skewness of the DM-SNR curve</th>\n",
       "      <th>target_class</th>\n",
       "    </tr>\n",
       "  </thead>\n",
       "  <tbody>\n",
       "    <tr>\n",
       "      <th>0</th>\n",
       "      <td>121.156250</td>\n",
       "      <td>48.372971</td>\n",
       "      <td>0.375485</td>\n",
       "      <td>-0.013165</td>\n",
       "      <td>3.168896</td>\n",
       "      <td>18.399367</td>\n",
       "      <td>7.449874</td>\n",
       "      <td>65.159298</td>\n",
       "      <td>0.0</td>\n",
       "    </tr>\n",
       "    <tr>\n",
       "      <th>1</th>\n",
       "      <td>76.968750</td>\n",
       "      <td>36.175557</td>\n",
       "      <td>0.712898</td>\n",
       "      <td>3.388719</td>\n",
       "      <td>2.399666</td>\n",
       "      <td>17.570997</td>\n",
       "      <td>9.414652</td>\n",
       "      <td>102.722975</td>\n",
       "      <td>0.0</td>\n",
       "    </tr>\n",
       "    <tr>\n",
       "      <th>2</th>\n",
       "      <td>130.585938</td>\n",
       "      <td>53.229534</td>\n",
       "      <td>0.133408</td>\n",
       "      <td>-0.297242</td>\n",
       "      <td>2.743311</td>\n",
       "      <td>22.362553</td>\n",
       "      <td>8.508364</td>\n",
       "      <td>74.031324</td>\n",
       "      <td>0.0</td>\n",
       "    </tr>\n",
       "    <tr>\n",
       "      <th>3</th>\n",
       "      <td>156.398438</td>\n",
       "      <td>48.865942</td>\n",
       "      <td>-0.215989</td>\n",
       "      <td>-0.171294</td>\n",
       "      <td>17.471572</td>\n",
       "      <td>NaN</td>\n",
       "      <td>2.958066</td>\n",
       "      <td>7.197842</td>\n",
       "      <td>0.0</td>\n",
       "    </tr>\n",
       "    <tr>\n",
       "      <th>4</th>\n",
       "      <td>84.804688</td>\n",
       "      <td>36.117659</td>\n",
       "      <td>0.825013</td>\n",
       "      <td>3.274125</td>\n",
       "      <td>2.790134</td>\n",
       "      <td>20.618009</td>\n",
       "      <td>8.405008</td>\n",
       "      <td>76.291128</td>\n",
       "      <td>0.0</td>\n",
       "    </tr>\n",
       "    <tr>\n",
       "      <th>5</th>\n",
       "      <td>121.007812</td>\n",
       "      <td>47.176944</td>\n",
       "      <td>0.229708</td>\n",
       "      <td>0.091336</td>\n",
       "      <td>2.036789</td>\n",
       "      <td>NaN</td>\n",
       "      <td>9.546051</td>\n",
       "      <td>112.131721</td>\n",
       "      <td>0.0</td>\n",
       "    </tr>\n",
       "    <tr>\n",
       "      <th>6</th>\n",
       "      <td>79.343750</td>\n",
       "      <td>42.402174</td>\n",
       "      <td>1.063413</td>\n",
       "      <td>2.244377</td>\n",
       "      <td>141.641304</td>\n",
       "      <td>NaN</td>\n",
       "      <td>-0.700809</td>\n",
       "      <td>-1.200653</td>\n",
       "      <td>0.0</td>\n",
       "    </tr>\n",
       "    <tr>\n",
       "      <th>7</th>\n",
       "      <td>109.406250</td>\n",
       "      <td>55.912521</td>\n",
       "      <td>0.565106</td>\n",
       "      <td>0.056247</td>\n",
       "      <td>2.797659</td>\n",
       "      <td>19.496527</td>\n",
       "      <td>9.443282</td>\n",
       "      <td>97.374578</td>\n",
       "      <td>0.0</td>\n",
       "    </tr>\n",
       "    <tr>\n",
       "      <th>8</th>\n",
       "      <td>95.007812</td>\n",
       "      <td>40.219805</td>\n",
       "      <td>0.347578</td>\n",
       "      <td>1.153164</td>\n",
       "      <td>2.770067</td>\n",
       "      <td>18.217741</td>\n",
       "      <td>7.851205</td>\n",
       "      <td>70.801938</td>\n",
       "      <td>0.0</td>\n",
       "    </tr>\n",
       "    <tr>\n",
       "      <th>9</th>\n",
       "      <td>109.156250</td>\n",
       "      <td>47.002234</td>\n",
       "      <td>0.394182</td>\n",
       "      <td>0.190296</td>\n",
       "      <td>4.578595</td>\n",
       "      <td>NaN</td>\n",
       "      <td>5.702532</td>\n",
       "      <td>36.342493</td>\n",
       "      <td>0.0</td>\n",
       "    </tr>\n",
       "  </tbody>\n",
       "</table>\n",
       "</div>"
      ],
      "text/plain": [
       "    Mean of the integrated profile  \\\n",
       "0                       121.156250   \n",
       "1                        76.968750   \n",
       "2                       130.585938   \n",
       "3                       156.398438   \n",
       "4                        84.804688   \n",
       "5                       121.007812   \n",
       "6                        79.343750   \n",
       "7                       109.406250   \n",
       "8                        95.007812   \n",
       "9                       109.156250   \n",
       "\n",
       "    Standard deviation of the integrated profile  \\\n",
       "0                                      48.372971   \n",
       "1                                      36.175557   \n",
       "2                                      53.229534   \n",
       "3                                      48.865942   \n",
       "4                                      36.117659   \n",
       "5                                      47.176944   \n",
       "6                                      42.402174   \n",
       "7                                      55.912521   \n",
       "8                                      40.219805   \n",
       "9                                      47.002234   \n",
       "\n",
       "    Excess kurtosis of the integrated profile  \\\n",
       "0                                    0.375485   \n",
       "1                                    0.712898   \n",
       "2                                    0.133408   \n",
       "3                                   -0.215989   \n",
       "4                                    0.825013   \n",
       "5                                    0.229708   \n",
       "6                                    1.063413   \n",
       "7                                    0.565106   \n",
       "8                                    0.347578   \n",
       "9                                    0.394182   \n",
       "\n",
       "    Skewness of the integrated profile   Mean of the DM-SNR curve  \\\n",
       "0                            -0.013165                   3.168896   \n",
       "1                             3.388719                   2.399666   \n",
       "2                            -0.297242                   2.743311   \n",
       "3                            -0.171294                  17.471572   \n",
       "4                             3.274125                   2.790134   \n",
       "5                             0.091336                   2.036789   \n",
       "6                             2.244377                 141.641304   \n",
       "7                             0.056247                   2.797659   \n",
       "8                             1.153164                   2.770067   \n",
       "9                             0.190296                   4.578595   \n",
       "\n",
       "    Standard deviation of the DM-SNR curve  \\\n",
       "0                                18.399367   \n",
       "1                                17.570997   \n",
       "2                                22.362553   \n",
       "3                                      NaN   \n",
       "4                                20.618009   \n",
       "5                                      NaN   \n",
       "6                                      NaN   \n",
       "7                                19.496527   \n",
       "8                                18.217741   \n",
       "9                                      NaN   \n",
       "\n",
       "    Excess kurtosis of the DM-SNR curve   Skewness of the DM-SNR curve  \\\n",
       "0                              7.449874                      65.159298   \n",
       "1                              9.414652                     102.722975   \n",
       "2                              8.508364                      74.031324   \n",
       "3                              2.958066                       7.197842   \n",
       "4                              8.405008                      76.291128   \n",
       "5                              9.546051                     112.131721   \n",
       "6                             -0.700809                      -1.200653   \n",
       "7                              9.443282                      97.374578   \n",
       "8                              7.851205                      70.801938   \n",
       "9                              5.702532                      36.342493   \n",
       "\n",
       "   target_class  \n",
       "0           0.0  \n",
       "1           0.0  \n",
       "2           0.0  \n",
       "3           0.0  \n",
       "4           0.0  \n",
       "5           0.0  \n",
       "6           0.0  \n",
       "7           0.0  \n",
       "8           0.0  \n",
       "9           0.0  "
      ]
     },
     "execution_count": 2,
     "metadata": {},
     "output_type": "execute_result"
    }
   ],
   "source": [
    "df = pd.read_csv(\"pulsar_stars.csv\")\n",
    "df.head(10)"
   ]
  },
  {
   "cell_type": "code",
   "execution_count": 3,
   "id": "c0f3ed34",
   "metadata": {},
   "outputs": [
    {
     "data": {
      "text/plain": [
       "(12528, 9)"
      ]
     },
     "execution_count": 3,
     "metadata": {},
     "output_type": "execute_result"
    }
   ],
   "source": [
    "df.shape"
   ]
  },
  {
   "cell_type": "code",
   "execution_count": 4,
   "id": "4f53f99e",
   "metadata": {},
   "outputs": [
    {
     "data": {
      "text/plain": [
       " Mean of the integrated profile                     0\n",
       " Standard deviation of the integrated profile       0\n",
       " Excess kurtosis of the integrated profile       1735\n",
       " Skewness of the integrated profile                 0\n",
       " Mean of the DM-SNR curve                           0\n",
       " Standard deviation of the DM-SNR curve          1178\n",
       " Excess kurtosis of the DM-SNR curve                0\n",
       " Skewness of the DM-SNR curve                     625\n",
       "target_class                                        0\n",
       "dtype: int64"
      ]
     },
     "execution_count": 4,
     "metadata": {},
     "output_type": "execute_result"
    }
   ],
   "source": [
    "#1\n",
    "df.isnull().sum()"
   ]
  },
  {
   "cell_type": "code",
   "execution_count": 5,
   "id": "47685f17",
   "metadata": {},
   "outputs": [],
   "source": [
    "X = df.iloc[:,:-1]\n",
    "Y = df.iloc[:,-1:]\n",
    "Y = Y.fillna(0)"
   ]
  },
  {
   "cell_type": "code",
   "execution_count": 6,
   "id": "45600ade",
   "metadata": {},
   "outputs": [
    {
     "data": {
      "text/html": [
       "<div>\n",
       "<style scoped>\n",
       "    .dataframe tbody tr th:only-of-type {\n",
       "        vertical-align: middle;\n",
       "    }\n",
       "\n",
       "    .dataframe tbody tr th {\n",
       "        vertical-align: top;\n",
       "    }\n",
       "\n",
       "    .dataframe thead th {\n",
       "        text-align: right;\n",
       "    }\n",
       "</style>\n",
       "<table border=\"1\" class=\"dataframe\">\n",
       "  <thead>\n",
       "    <tr style=\"text-align: right;\">\n",
       "      <th></th>\n",
       "      <th>Mean of the integrated profile</th>\n",
       "      <th>Standard deviation of the integrated profile</th>\n",
       "      <th>Skewness of the integrated profile</th>\n",
       "      <th>Mean of the DM-SNR curve</th>\n",
       "      <th>Excess kurtosis of the DM-SNR curve</th>\n",
       "    </tr>\n",
       "  </thead>\n",
       "  <tbody>\n",
       "    <tr>\n",
       "      <th>0</th>\n",
       "      <td>121.156250</td>\n",
       "      <td>48.372971</td>\n",
       "      <td>-0.013165</td>\n",
       "      <td>3.168896</td>\n",
       "      <td>7.449874</td>\n",
       "    </tr>\n",
       "    <tr>\n",
       "      <th>1</th>\n",
       "      <td>76.968750</td>\n",
       "      <td>36.175557</td>\n",
       "      <td>3.388719</td>\n",
       "      <td>2.399666</td>\n",
       "      <td>9.414652</td>\n",
       "    </tr>\n",
       "    <tr>\n",
       "      <th>2</th>\n",
       "      <td>130.585938</td>\n",
       "      <td>53.229534</td>\n",
       "      <td>-0.297242</td>\n",
       "      <td>2.743311</td>\n",
       "      <td>8.508364</td>\n",
       "    </tr>\n",
       "    <tr>\n",
       "      <th>3</th>\n",
       "      <td>156.398438</td>\n",
       "      <td>48.865942</td>\n",
       "      <td>-0.171294</td>\n",
       "      <td>17.471572</td>\n",
       "      <td>2.958066</td>\n",
       "    </tr>\n",
       "    <tr>\n",
       "      <th>4</th>\n",
       "      <td>84.804688</td>\n",
       "      <td>36.117659</td>\n",
       "      <td>3.274125</td>\n",
       "      <td>2.790134</td>\n",
       "      <td>8.405008</td>\n",
       "    </tr>\n",
       "  </tbody>\n",
       "</table>\n",
       "</div>"
      ],
      "text/plain": [
       "    Mean of the integrated profile  \\\n",
       "0                       121.156250   \n",
       "1                        76.968750   \n",
       "2                       130.585938   \n",
       "3                       156.398438   \n",
       "4                        84.804688   \n",
       "\n",
       "    Standard deviation of the integrated profile  \\\n",
       "0                                      48.372971   \n",
       "1                                      36.175557   \n",
       "2                                      53.229534   \n",
       "3                                      48.865942   \n",
       "4                                      36.117659   \n",
       "\n",
       "    Skewness of the integrated profile   Mean of the DM-SNR curve  \\\n",
       "0                            -0.013165                   3.168896   \n",
       "1                             3.388719                   2.399666   \n",
       "2                            -0.297242                   2.743311   \n",
       "3                            -0.171294                  17.471572   \n",
       "4                             3.274125                   2.790134   \n",
       "\n",
       "    Excess kurtosis of the DM-SNR curve  \n",
       "0                              7.449874  \n",
       "1                              9.414652  \n",
       "2                              8.508364  \n",
       "3                              2.958066  \n",
       "4                              8.405008  "
      ]
     },
     "execution_count": 6,
     "metadata": {},
     "output_type": "execute_result"
    }
   ],
   "source": [
    "X.dropna(axis=1,inplace=True)\n",
    "X.head()"
   ]
  },
  {
   "cell_type": "code",
   "execution_count": 7,
   "id": "931b00a9",
   "metadata": {},
   "outputs": [],
   "source": [
    "#2\n",
    "df_categorical = X.select_dtypes(include='object')\n",
    "\n",
    "  \n",
    "\n",
    "label_encoder = preprocessing.LabelEncoder()\n",
    "\n",
    "for i in df_categorical.columns:\n",
    "    X[i]= label_encoder.fit_transform(X[i])"
   ]
  },
  {
   "cell_type": "code",
   "execution_count": 8,
   "id": "d1fe6b21",
   "metadata": {},
   "outputs": [
    {
     "data": {
      "image/png": "[encoded data removed]",
      "text/plain": [
       "<Figure size 360x432 with 1 Axes>"
      ]
     },
     "metadata": {
      "needs_background": "light"
     },
     "output_type": "display_data"
    },
    {
     "data": {
      "image/png": "[encoded data removed]",
      "text/plain": [
       "<Figure size 360x432 with 1 Axes>"
      ]
     },
     "metadata": {
      "needs_background": "light"
     },
     "output_type": "display_data"
    },
    {
     "data": {
      "image/png": "[encoded data removed]",
      "text/plain": [
       "<Figure size 360x432 with 1 Axes>"
      ]
     },
     "metadata": {
      "needs_background": "light"
     },
     "output_type": "display_data"
    },
    {
     "data": {
      "image/png": "[encoded data removed]",
      "text/plain": [
       "<Figure size 360x432 with 1 Axes>"
      ]
     },
     "metadata": {
      "needs_background": "light"
     },
     "output_type": "display_data"
    },
    {
     "data": {
      "image/png": "[encoded data removed]",
      "text/plain": [
       "<Figure size 360x432 with 1 Axes>"
      ]
     },
     "metadata": {
      "needs_background": "light"
     },
     "output_type": "display_data"
    }
   ],
   "source": [
    "for column in X:\n",
    "    plt.figure(figsize=(5,6))\n",
    "    X.boxplot([column])"
   ]
  },
  {
   "cell_type": "code",
   "execution_count": 9,
   "id": "1d33d56b",
   "metadata": {
    "scrolled": true
   },
   "outputs": [
    {
     "data": {
      "text/plain": [
       "array([[0.62713448, 0.35206043, 0.02544901, 0.01330142, 0.28103484],\n",
       "       [0.38688302, 0.17010882, 0.0741214 , 0.00983967, 0.33317986],\n",
       "       [0.67840455, 0.42450688, 0.02138459, 0.01138617, 0.30912705],\n",
       "       ...,\n",
       "       [0.59926939, 0.27510059, 0.03183377, 0.00257374, 0.53595964],\n",
       "       [0.70601478, 0.37534292, 0.02239349, 0.01640948, 0.27966859],\n",
       "       [0.62479823, 0.38337595, 0.02828136, 0.00250225, 0.55206955]])"
      ]
     },
     "execution_count": 9,
     "metadata": {},
     "output_type": "execute_result"
    }
   ],
   "source": [
    "X=MinMaxScaler().fit_transform(X)\n",
    "X"
   ]
  },
  {
   "cell_type": "code",
   "execution_count": 10,
   "id": "897f6e88",
   "metadata": {},
   "outputs": [],
   "source": [
    "X_train,X_test,Y_train,Y_test = train_test_split(X,Y,test_size=0.2)"
   ]
  },
  {
   "cell_type": "code",
   "execution_count": 11,
   "id": "a507b078",
   "metadata": {},
   "outputs": [
    {
     "name": "stdout",
     "output_type": "stream",
     "text": [
      "Accuracy:  0.9748603351955307\n",
      "Confusion:  [[2267    7]\n",
      " [  56  176]]\n"
     ]
    }
   ],
   "source": [
    "SVM_random = svm.SVC(C=1, gamma='auto', kernel='rbf')\n",
    "SVM_random.fit(X_train, Y_train)\n",
    "Y_pred = SVM_random.predict(X_test)\n",
    "accuracy = accuracy_score(Y_test,Y_pred)\n",
    "print(\"Accuracy: \",accuracy)\n",
    "confusion = confusion_matrix(Y_test, Y_pred)\n",
    "print(\"Confusion: \",confusion)"
   ]
  },
  {
   "cell_type": "code",
   "execution_count": 12,
   "id": "55640fcd",
   "metadata": {},
   "outputs": [
    {
     "name": "stdout",
     "output_type": "stream",
     "text": [
      "Accuracy:  0.9808459696727854\n",
      "Confusion:  [[2263   11]\n",
      " [  37  195]]\n"
     ]
    }
   ],
   "source": [
    "SVM_random = svm.SVC(C=100,gamma='auto', kernel='rbf')\n",
    "SVM_random.fit(X_train, Y_train)\n",
    "Y_pred = SVM_random.predict(X_test)\n",
    "accuracy = accuracy_score(Y_test,Y_pred)\n",
    "print(\"Accuracy: \",accuracy)\n",
    "confusion = confusion_matrix(Y_test, Y_pred)\n",
    "print(\"Confusion: \",confusion)"
   ]
  },
  {
   "cell_type": "code",
   "execution_count": 13,
   "id": "88199bcc",
   "metadata": {},
   "outputs": [
    {
     "name": "stdout",
     "output_type": "stream",
     "text": [
      "Accuracy:  0.9816440542697525\n",
      "Confusion:  [[2261   13]\n",
      " [  33  199]]\n"
     ]
    }
   ],
   "source": [
    "SVM_random = svm.SVC(C=1000,gamma='auto', kernel='rbf')\n",
    "SVM_random.fit(X_train, Y_train)\n",
    "Y_pred = SVM_random.predict(X_test)\n",
    "accuracy = accuracy_score(Y_test,Y_pred)\n",
    "print(\"Accuracy: \",accuracy)\n",
    "confusion = confusion_matrix(Y_test, Y_pred)\n",
    "print(\"Confusion: \",confusion)"
   ]
  },
  {
   "cell_type": "code",
   "execution_count": 14,
   "id": "f2e93d77",
   "metadata": {},
   "outputs": [
    {
     "name": "stdout",
     "output_type": "stream",
     "text": [
      "Accuracy:  0.9760574620909817\n",
      "Confusion:  [[2266    8]\n",
      " [  52  180]]\n"
     ]
    }
   ],
   "source": [
    "SVM_random = svm.SVC(C=1,gamma='auto', kernel='linear')\n",
    "SVM_random.fit(X_train, Y_train)\n",
    "Y_pred = SVM_random.predict(X_test)\n",
    "accuracy = accuracy_score(Y_test,Y_pred)\n",
    "print(\"Accuracy: \",accuracy)\n",
    "confusion = confusion_matrix(Y_test, Y_pred)\n",
    "print(\"Confusion: \",confusion)"
   ]
  },
  {
   "cell_type": "code",
   "execution_count": 15,
   "id": "df068a7b",
   "metadata": {},
   "outputs": [
    {
     "name": "stdout",
     "output_type": "stream",
     "text": [
      "Accuracy:  0.9792498004788508\n",
      "Confusion:  [[2264   10]\n",
      " [  42  190]]\n"
     ]
    }
   ],
   "source": [
    "SVM_random = svm.SVC(C=100,gamma='auto', kernel='linear')\n",
    "SVM_random.fit(X_train, Y_train)\n",
    "Y_pred = SVM_random.predict(X_test)\n",
    "accuracy = accuracy_score(Y_test,Y_pred)\n",
    "print(\"Accuracy: \",accuracy)\n",
    "confusion = confusion_matrix(Y_test, Y_pred)\n",
    "print(\"Confusion: \",confusion)"
   ]
  },
  {
   "cell_type": "code",
   "execution_count": 16,
   "id": "d8d17f67",
   "metadata": {},
   "outputs": [
    {
     "name": "stdout",
     "output_type": "stream",
     "text": [
      "Accuracy:  0.9796488427773344\n",
      "Confusion:  [[2264   10]\n",
      " [  41  191]]\n"
     ]
    }
   ],
   "source": [
    "SVM_random = svm.SVC(C=1000,gamma='auto', kernel='linear')\n",
    "SVM_random.fit(X_train, Y_train)\n",
    "Y_pred = SVM_random.predict(X_test)\n",
    "accuracy = accuracy_score(Y_test,Y_pred)\n",
    "print(\"Accuracy: \",accuracy)\n",
    "confusion = confusion_matrix(Y_test, Y_pred)\n",
    "print(\"Confusion: \",confusion)"
   ]
  },
  {
   "cell_type": "code",
   "execution_count": 17,
   "id": "1348d391",
   "metadata": {},
   "outputs": [
    {
     "name": "stdout",
     "output_type": "stream",
     "text": [
      "Accuracy:  0.9752593774940144\n",
      "Confusion:  [[2251   23]\n",
      " [  39  193]]\n"
     ]
    }
   ],
   "source": [
    "SVM_random = svm.SVC(C=100,gamma=100, kernel='rbf')\n",
    "SVM_random.fit(X_train, Y_train)\n",
    "Y_pred = SVM_random.predict(X_test)\n",
    "accuracy = accuracy_score(Y_test,Y_pred)\n",
    "print(\"Accuracy: \",accuracy)\n",
    "confusion = confusion_matrix(Y_test, Y_pred)\n",
    "print(\"Confusion: \",confusion)"
   ]
  },
  {
   "cell_type": "code",
   "execution_count": 18,
   "id": "b8b6d861",
   "metadata": {},
   "outputs": [
    {
     "name": "stdout",
     "output_type": "stream",
     "text": [
      "Accuracy:  0.9792498004788508\n",
      "Confusion:  [[2264   10]\n",
      " [  42  190]]\n"
     ]
    }
   ],
   "source": [
    "SVM_random = svm.SVC(C=100,gamma=100, kernel='linear')\n",
    "SVM_random.fit(X_train, Y_train)\n",
    "Y_pred = SVM_random.predict(X_test)\n",
    "accuracy = accuracy_score(Y_test,Y_pred)\n",
    "print(\"Accuracy: \",accuracy)\n",
    "confusion = confusion_matrix(Y_test, Y_pred)\n",
    "print(\"Confusion: \",confusion)"
   ]
  },
  {
   "cell_type": "code",
   "execution_count": 19,
   "id": "fdeca197",
   "metadata": {},
   "outputs": [
    {
     "name": "stdout",
     "output_type": "stream",
     "text": [
      "Accuracy:  0.931364724660814\n",
      "Confusion:  [[2226   48]\n",
      " [ 124  108]]\n"
     ]
    }
   ],
   "source": [
    "SVM_random = svm.SVC(C=1000,gamma=1000, kernel='rbf')\n",
    "SVM_random.fit(X_train, Y_train)\n",
    "Y_pred = SVM_random.predict(X_test)\n",
    "accuracy = accuracy_score(Y_test,Y_pred)\n",
    "print(\"Accuracy: \",accuracy)\n",
    "confusion = confusion_matrix(Y_test, Y_pred)\n",
    "print(\"Confusion: \",confusion)"
   ]
  },
  {
   "cell_type": "code",
   "execution_count": 20,
   "id": "de69b445",
   "metadata": {},
   "outputs": [
    {
     "name": "stdout",
     "output_type": "stream",
     "text": [
      "Accuracy:  0.9796488427773344\n",
      "Confusion:  [[2264   10]\n",
      " [  41  191]]\n"
     ]
    }
   ],
   "source": [
    "SVM_random = svm.SVC(C=1000,gamma=1000, kernel='linear')\n",
    "SVM_random.fit(X_train, Y_train)\n",
    "Y_pred = SVM_random.predict(X_test)\n",
    "accuracy = accuracy_score(Y_test,Y_pred)\n",
    "print(\"Accuracy: \",accuracy)\n",
    "confusion = confusion_matrix(Y_test, Y_pred)\n",
    "print(\"Confusion: \",confusion)"
   ]
  }
 ],
 "metadata": {
  "kernelspec": {
   "display_name": "Python 3 (ipykernel)",
   "language": "python",
   "name": "python3"
  },
  "language_info": {
   "codemirror_mode": {
    "name": "ipython",
    "version": 3
   },
   "file_extension": ".py",
   "mimetype": "text/x-python",
   "name": "python",
   "nbconvert_exporter": "python",
   "pygments_lexer": "ipython3",
   "version": "3.10.7"
  }
 },
 "nbformat": 4,
 "nbformat_minor": 5
}
